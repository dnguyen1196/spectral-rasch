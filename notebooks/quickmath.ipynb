{
 "cells": [
  {
   "cell_type": "code",
   "execution_count": 1,
   "id": "2c757192-83f2-4f6a-aa3a-5b2da18086d5",
   "metadata": {},
   "outputs": [],
   "source": [
    "import numpy as np\n",
    "from scipy.integrate import quad"
   ]
  },
  {
   "cell_type": "code",
   "execution_count": 3,
   "id": "0e53d7d5-f27d-4bc3-8b1f-b7344ad68c5a",
   "metadata": {},
   "outputs": [
    {
     "data": {
      "text/plain": [
       "(97.99999999999993, 3.714401124194145e-07)"
      ]
     },
     "execution_count": 3,
     "metadata": {},
     "output_type": "execute_result"
    }
   ],
   "source": [
    "\n",
    "def func(x, beta):\n",
    "    return np.exp(x)/(np.exp(x) + np.exp(beta))**2\n",
    "\n",
    "def flat_prior(x, lower, upper):\n",
    "    return 1.\n",
    "\n",
    "\n",
    "quad(lambda x: func(x, 1), -99, 99)"
   ]
  },
  {
   "cell_type": "code",
   "execution_count": 6,
   "id": "5384cfbd-f72c-4ef2-91a9-a0680c0ed746",
   "metadata": {},
   "outputs": [
    {
     "data": {
      "text/plain": [
       "(97.0, 4.470618370385458e-08)"
      ]
     },
     "execution_count": 6,
     "metadata": {},
     "output_type": "execute_result"
    }
   ],
   "source": [
    "quad(lambda x: func(x, 2), -99, 99)"
   ]
  },
  {
   "cell_type": "code",
   "execution_count": 7,
   "id": "294ff735-a7ba-4bcb-b35e-8825d77bf3be",
   "metadata": {},
   "outputs": [
    {
     "data": {
      "text/plain": [
       "(97.99999999999993, 3.714401124194145e-07)"
      ]
     },
     "execution_count": 7,
     "metadata": {},
     "output_type": "execute_result"
    }
   ],
   "source": [
    "quad(lambda x: func(x, 1), -99, 99)"
   ]
  },
  {
   "cell_type": "code",
   "execution_count": 9,
   "id": "e7d890f2-d623-40e8-b2c3-124099bbaa7c",
   "metadata": {},
   "outputs": [
    {
     "data": {
      "text/plain": [
       "(98.5, 7.624708785024196e-10)"
      ]
     },
     "execution_count": 9,
     "metadata": {},
     "output_type": "execute_result"
    }
   ],
   "source": [
    "quad(lambda x: func(x, 0.5), -99, 99)"
   ]
  },
  {
   "cell_type": "code",
   "execution_count": null,
   "id": "ce746c23-6171-4c91-ac05-2f394d7468e8",
   "metadata": {},
   "outputs": [],
   "source": []
  }
 ],
 "metadata": {
  "kernelspec": {
   "display_name": "Python 3",
   "language": "python",
   "name": "python3"
  },
  "language_info": {
   "codemirror_mode": {
    "name": "ipython",
    "version": 3
   },
   "file_extension": ".py",
   "mimetype": "text/x-python",
   "name": "python",
   "nbconvert_exporter": "python",
   "pygments_lexer": "ipython3",
   "version": "3.8.13"
  }
 },
 "nbformat": 4,
 "nbformat_minor": 5
}
