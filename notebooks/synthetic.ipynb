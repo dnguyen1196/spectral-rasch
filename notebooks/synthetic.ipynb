{
 "cells": [
  {
   "cell_type": "code",
   "execution_count": 1,
   "metadata": {},
   "outputs": [],
   "source": [
    "%load_ext autoreload\n",
    "%autoreload 2"
   ]
  },
  {
   "cell_type": "code",
   "execution_count": 2,
   "metadata": {},
   "outputs": [],
   "source": [
    "import numpy as np\n",
    "import matplotlib.pyplot as plt\n",
    "import time\n",
    "import girth\n",
    "# from girth import rasch_conditional\n",
    "from irt.data.rasch import generate_data\n",
    "from irt.algorithms import spectral_estimator\n",
    "from irt.algorithms import conditional_mle\n",
    "from irt.algorithms import rasch_mml\n",
    "from irt.algorithms import eigen_vector_method\n",
    "\n",
    "# import data (you supply this function)\n",
    "# my_data = import_data(filename)\n",
    "\n",
    "# # Assume its dichotomous data with True -> 1 and False -> 0\n",
    "# tagged_data = tag_missing_data(my_data, [0, 1])"
   ]
  },
  {
   "cell_type": "code",
   "execution_count": 39,
   "metadata": {},
   "outputs": [],
   "source": [
    "m = 10\n",
    "p = 1.\n",
    "betas = np.random.normal(size=(m,))\n",
    "betas -= np.min(betas)\n",
    "z = np.exp(betas)\n",
    "z = z / np.sum(z)\n",
    "\n",
    "n = 100\n",
    "# theta_students = np.random.normal(size=(n,))\n",
    "theta_students = np.zeros((n,))\n",
    "data = generate_data(betas, theta_students, p)\n",
    "\n",
    "z_est_ase = spectral_estimator.spectral_estimate(data, accelerated=True)\n",
    "z_est_mmle = rasch_mml.rasch_mml(data)"
   ]
  },
  {
   "cell_type": "code",
   "execution_count": 40,
   "metadata": {},
   "outputs": [
    {
     "data": {
      "text/plain": [
       "0.35406782548298643"
      ]
     },
     "execution_count": 40,
     "metadata": {},
     "output_type": "execute_result"
    }
   ],
   "source": [
    "np.linalg.norm(z_est_mmle - z)/np.linalg.norm(z)"
   ]
  },
  {
   "cell_type": "code",
   "execution_count": 41,
   "metadata": {},
   "outputs": [
    {
     "data": {
      "text/plain": [
       "0.2637997722633451"
      ]
     },
     "execution_count": 41,
     "metadata": {},
     "output_type": "execute_result"
    }
   ],
   "source": [
    "np.linalg.norm(z_est_ase - z)/np.linalg.norm(z)"
   ]
  },
  {
   "cell_type": "code",
   "execution_count": 34,
   "metadata": {},
   "outputs": [],
   "source": [
    "def relative_betas_error(beta, betah):\n",
    "    return np.linalg.norm(beta - betah)/np.linalg.norm(beta)\n",
    "\n",
    "def relative_z_error(beta, betah):\n",
    "    z = np.exp(beta)\n",
    "    z /= np.sum(z)\n",
    "    zh = np.exp(betah)\n",
    "    zh /= np.sum(zh)\n",
    "    return np.linalg.norm(z - zh)/np.linalg.norm(z)\n",
    "\n",
    "def relative_z_err(z, zh):\n",
    "    return np.linalg.norm(z - zh)/np.linalg.norm(z)\n",
    "    "
   ]
  },
  {
   "cell_type": "code",
   "execution_count": 53,
   "metadata": {},
   "outputs": [
    {
     "name": "stdout",
     "output_type": "stream",
     "text": [
      "n=50, m=10, ASE=0.25105323575203586 (0.001042943000793457), CMLE=0.24922895442437273 (0.16494346141815186), MMLE=0.23815601992342822 (0.006163806915283202), Choppin=0.0 (0.0), Garner=0.0 (0.0), Saaty=0.0 (0.0)\n",
      "n=100, m=10, ASE=0.2671858544428773 (0.0010685205459594726), CMLE=0.25797773084372577 (0.1685338163375854), MMLE=0.23663597254448612 (0.006374273300170897), Choppin=0.0 (0.0), Garner=0.0 (0.0), Saaty=0.0 (0.0)\n",
      "n=200, m=10, ASE=0.25400495453995403 (0.0010238599777221678), CMLE=0.261520446665614 (0.1628914499282837), MMLE=0.22519660731754443 (0.006084342002868649), Choppin=0.0 (0.0), Garner=0.0 (0.0), Saaty=0.0 (0.0)\n",
      "n=500, m=10, ASE=0.26027811698619513 (0.0010433292388916016), CMLE=0.2554399104547411 (0.16515130996704094), MMLE=0.24443993913642553 (0.006075410842895508), Choppin=0.0 (0.0), Garner=0.0 (0.0), Saaty=0.0 (0.0)\n"
     ]
    }
   ],
   "source": [
    "\n",
    "\n",
    "errors_arr = []\n",
    "errors_ase_arr = []\n",
    "errors_cmle_arr = []\n",
    "errors_mmle_arr = []\n",
    "errors_choppin_arr = []\n",
    "errors_garner_arr = []\n",
    "errors_saaty_arr = []\n",
    "\n",
    "time_arr = []\n",
    "time_ase_arr = []\n",
    "time_cmle_arr = []\n",
    "time_mmle_arr = []\n",
    "time_choppin_arr = []\n",
    "time_garner_arr = []\n",
    "time_saaty_arr = []\n",
    "\n",
    "n_array = [50, 100, 200, 500]\n",
    "n_trials = 50\n",
    "m = 10\n",
    "\n",
    "\n",
    "p = 0.2\n",
    "\n",
    "\n",
    "for n in n_array:\n",
    "\n",
    "    \n",
    "    # w_students = np.ones((n,))\n",
    "    # p = np.sqrt(np.log(m)/n)\n",
    "    \n",
    "    error_ase = 0.\n",
    "    error_cmle = 0.\n",
    "    error_mmle = 0.\n",
    "    error_choppin = 0.\n",
    "    error_garner = 0.\n",
    "    error_saaty = 0.\n",
    "    \n",
    "    time_ase = 0.\n",
    "    time_cmle = 0.\n",
    "    time_mmle = 0.\n",
    "    time_garner = 0.\n",
    "    time_choppin = 0.\n",
    "    time_saaty = 0.\n",
    "    \n",
    "    for _ in range(n_trials):\n",
    "        betas = np.random.normal(size=(m,))\n",
    "        # betas -= np.min(betas)\n",
    "        z = np.exp(betas)\n",
    "        z = z/ np.sum(z)\n",
    "        theta_students = np.random.normal(size=(n,))\n",
    "        # thetas = np.zeros((n,))\n",
    "        \n",
    "        data = generate_data(betas, thetas, p)\n",
    "        \n",
    "        # Conditional MLE\n",
    "        start = time.time()\n",
    "        z_est_cmle = conditional_mle.rasch_conditional(data)\n",
    "        time_cmle += 1./n_trials * (time.time() - start)\n",
    "        error_cmle += 1./n_trials * np.linalg.norm(z - z_est_cmle)/np.linalg.norm(z)\n",
    "        \n",
    "        # Marginal MLE\n",
    "        start = time.time()\n",
    "        z_est_mmle = rasch_mml.rasch_mml(data)\n",
    "        time_mmle += 1./n_trials * (time.time() - start)\n",
    "        # error_mmle += 1./n_trials * np.linalg.norm(betas - z_est_mle) #/np.linalg.norm(betas)\n",
    "        # error_mmle += 1./n_trials * relative_z_error(betas, z_est_mmle)\n",
    "        error_mmle += 1./n_trials * np.linalg.norm(z_est_mmle - z)/np.linalg.norm(z)\n",
    "\n",
    "        # Accelerated spectral method\n",
    "        start = time.time()\n",
    "        z_est_ase = spectral_estimator.spectral_estimate(data, accelerated=True)\n",
    "        time_ase += 1./n_trials * (time.time() - start)\n",
    "        # error_ase += 1./n_trials * np.linalg.norm(betas - z_est_ase) #/np.linalg.norm(betas)\n",
    "        # error_ase += 1./n_trials * relative_z_error(betas, z_est_ase)\n",
    "        error_ase += 1./n_trials * np.linalg.norm(z_est_ase - z)/np.linalg.norm(z)\n",
    "        \n",
    "#         # Choppin method\n",
    "#         start = time.time()\n",
    "#         z_est_choppin = eigen_vector_method.choppin_method(data)\n",
    "#         time_choppin += 1./n_trials * (time.time() - start)\n",
    "#         error_choppin += 1./n_trials * np.linalg.norm(betas - z_est_choppin)/np.linalg.norm(betas)\n",
    "        \n",
    "#         # Garner\n",
    "#         start = time.time()\n",
    "#         z_est_garner = eigen_vector_method.garner_method(data)\n",
    "#         time_garner += 1./n_trials * (time.time() - start)\n",
    "#         error_garner += 1./n_trials * np.linalg.norm(betas - z_est_garner)/np.linalg.norm(betas)\n",
    "        \n",
    "#         # Saaty's method\n",
    "#         start = time.time()\n",
    "#         z_est_saaty = eigen_vector_method.saaty_method(data)\n",
    "#         time_saaty += 1./n_trials * (time.time() - start)\n",
    "#         error_saaty += 1./n_trials * np.linalg.norm(betas - z_est_saaty)/np.linalg.norm(betas)\n",
    "        \n",
    "\n",
    "    errors_ase_arr.append(error_ase)\n",
    "    errors_cmle_arr.append(error_cmle)\n",
    "    errors_mmle_arr.append(error_mmle)\n",
    "    errors_choppin_arr.append(error_choppin)\n",
    "    errors_garner_arr.append(error_garner)\n",
    "    errors_saaty_arr.append(error_saaty)\n",
    "    \n",
    "    time_ase_arr.append(time_ase)\n",
    "    time_cmle_arr.append(time_cmle)\n",
    "    time_mmle_arr.append(time_mmle)\n",
    "    time_choppin_arr.append(time_choppin)\n",
    "    time_garner_arr.append(time_garner)\n",
    "    time_saaty_arr.append(time_saaty)\n",
    "    \n",
    "    print(f\"n={n}, m={m}, ASE={error_ase} ({time_ase}), CMLE={error_cmle} ({time_cmle}), MMLE={error_mmle} ({time_mmle}), \" +\n",
    "          f\"Choppin={error_choppin} ({time_choppin}), Garner={error_garner} ({time_garner}), Saaty={error_saaty} ({time_saaty})\")"
   ]
  },
  {
   "cell_type": "code",
   "execution_count": null,
   "metadata": {},
   "outputs": [],
   "source": [
    "plt.plot(n_array, errors_mmle_arr, label=\"Marginal MLE\")\n",
    "plt.plot(n_array, errors_cmle_arr, label=\"Conditional MLE\")\n",
    "plt.plot(n_array, errors_ase_arr, label=\"Accelerated Spectral Method\")\n",
    "# plt.plot(n_array, errors_choppin_arr, label=\"Choppin Method\")\n",
    "# plt.plot(n_array, errors_garner_arr, label=\"Garner Method\")\n",
    "# plt.plot(n_array, errors_saaty_arr, label=\"Saaty Method\")\n",
    "\n",
    "\n",
    "plt.legend()\n",
    "plt.title(rf\"m={m},p=sqrt(log m/n)\")\n",
    "plt.xlabel(\"n\")\n",
    "plt.ylabel(r'$|| \\beta - \\beta^*||/||\\beta^*|| $')\n",
    "# plt.title(r'$d = mnp^2$, $p = \\sqrt{\\log m/n}$')"
   ]
  },
  {
   "cell_type": "code",
   "execution_count": 30,
   "metadata": {},
   "outputs": [
    {
     "data": {
      "text/plain": [
       "Text(0, 0.5, 'Time (s)')"
      ]
     },
     "execution_count": 30,
     "metadata": {},
     "output_type": "execute_result"
    },
    {
     "data": {
      "image/png": "[encoded data removed]",
      "text/plain": [
       "<Figure size 432x288 with 1 Axes>"
      ]
     },
     "metadata": {
      "needs_background": "light"
     },
     "output_type": "display_data"
    }
   ],
   "source": [
    "plt.plot(n_array, time_mmle_arr, label=\"Marginal MLE\")\n",
    "plt.plot(n_array, time_cmle_arr, label=\"Conditional MLE\")\n",
    "plt.plot(n_array, time_ase_arr, label=\"Accelerated\")\n",
    "\n",
    "plt.legend()\n",
    "plt.xlabel(\"n\")\n",
    "plt.ylabel('Time (s)')"
   ]
  },
  {
   "cell_type": "code",
   "execution_count": null,
   "metadata": {},
   "outputs": [],
   "source": []
  }
 ],
 "metadata": {
  "kernelspec": {
   "display_name": "Python 3",
   "language": "python",
   "name": "python3"
  },
  "language_info": {
   "codemirror_mode": {
    "name": "ipython",
    "version": 3
   },
   "file_extension": ".py",
   "mimetype": "text/x-python",
   "name": "python",
   "nbconvert_exporter": "python",
   "pygments_lexer": "ipython3",
   "version": "3.8.13"
  }
 },
 "nbformat": 4,
 "nbformat_minor": 4
}
