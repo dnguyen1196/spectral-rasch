{
 "cells": [
  {
   "cell_type": "code",
   "execution_count": 1,
   "metadata": {},
   "outputs": [],
   "source": [
    "%load_ext autoreload\n",
    "%autoreload 2"
   ]
  },
  {
   "cell_type": "code",
   "execution_count": 37,
   "metadata": {},
   "outputs": [],
   "source": [
    "import numpy as np\n",
    "import matplotlib.pyplot as plt\n",
    "import time\n",
    "import girth\n",
    "# from girth import rasch_conditional\n",
    "from irt.data.rasch import generate_data, generate_data_positive_scores\n",
    "from irt.algorithms.spectral_estimator import spectral_estimate\n",
    "from irt.algorithms import spectral_estimator\n",
    "from irt.algorithms import conditional_mle, joint_mle\n",
    "from irt.algorithms import rasch_mml\n",
    "from irt.algorithms import eigen_vector_method\n",
    "from irt.evaluation import eval_utils\n",
    "\n",
    "# import data (you supply this function)\n",
    "from scipy.stats import norm\n",
    "# my_data = import_data(filename)\n",
    "\n",
    "# # Assume its dichotomous data with True -> 1 and False -> 0\n",
    "# tagged_data = tag_missing_data(my_data, [0, 1])"
   ]
  },
  {
   "cell_type": "code",
   "execution_count": 26,
   "metadata": {},
   "outputs": [],
   "source": [
    "def relative_betas_error(beta, betah):\n",
    "    assert(len(beta) == len(betah))\n",
    "    beta_norm = beta - np.mean(beta)\n",
    "    betah_norm = betah - np.mean(betah)\n",
    "    return np.linalg.norm(beta_norm - betah_norm)\n",
    "\n",
    "def relative_z_error(z, zh):\n",
    "    return np.linalg.norm(z - zh)/np.linalg.norm(z)\n",
    "\n",
    "    "
   ]
  },
  {
   "cell_type": "code",
   "execution_count": 39,
   "metadata": {},
   "outputs": [
    {
     "name": "stdout",
     "output_type": "stream",
     "text": [
      "n=100, m=100, ASE=4.93721011417426 (0.011448287963867187), CMLE=nan (nan), MMLE=nan (nan), Choppin=nan (nan), Garner=7.789913183582056 (0.15873138904571532), Saaty=nan (nan)\n",
      "n=500, m=100, ASE=2.374127565554044 (0.009057557582855225), CMLE=nan (nan), MMLE=nan (nan), Choppin=nan (nan), Garner=8.090789464244452 (0.5557078719139099), Saaty=nan (nan)\n",
      "n=1000, m=100, ASE=1.5426009141143566 (0.017286789417266846), CMLE=nan (nan), MMLE=nan (nan), Choppin=nan (nan), Garner=8.139589556091337 (0.9331810474395752), Saaty=nan (nan)\n",
      "n=2500, m=100, ASE=1.0152110695168948 (0.018273425102233887), CMLE=nan (nan), MMLE=nan (nan), Choppin=nan (nan), Garner=8.159737871626563 (2.2036587476730345), Saaty=nan (nan)\n",
      "n=5000, m=100, ASE=0.700307729675491 (0.032782447338104245), CMLE=nan (nan), MMLE=nan (nan), Choppin=nan (nan), Garner=8.074703729726512 (5.0078588128089905), Saaty=nan (nan)\n"
     ]
    }
   ],
   "source": [
    "\n",
    "\n",
    "errors_arr = []\n",
    "errors_ase_arr = []\n",
    "errors_cmle_arr = []\n",
    "errors_mmle_arr = []\n",
    "errors_choppin_arr = []\n",
    "errors_garner_arr = []\n",
    "errors_saaty_arr = []\n",
    "\n",
    "time_arr = []\n",
    "time_ase_arr = []\n",
    "time_cmle_arr = []\n",
    "time_mmle_arr = []\n",
    "time_choppin_arr = []\n",
    "time_garner_arr = []\n",
    "time_saaty_arr = []\n",
    "\n",
    "n_array = [100, 500, 1000, 2500, 5000]\n",
    "n_trials = 20\n",
    "m = 100\n",
    "\n",
    "expected_num_problems = 20\n",
    "\n",
    "p = expected_num_problems/m\n",
    "p = 1.\n",
    "test_var = 2\n",
    "betas = np.random.normal(0, test_var, size=(m,))\n",
    "student_var = 3\n",
    "\n",
    "for n in n_array:\n",
    "    # w_students = np.ones((n,))\n",
    "    # p = np.sqrt(np.log(m)/n)\n",
    "    thetas = np.random.normal(0, student_var, size=(n,))\n",
    "\n",
    "    error_ase = []\n",
    "    error_cmle = []\n",
    "    error_mmle = []\n",
    "    error_choppin = []\n",
    "    error_garner = []\n",
    "    error_saaty = []\n",
    "    \n",
    "    time_ase = []\n",
    "    time_cmle = []\n",
    "    time_mmle = []\n",
    "    time_garner = []\n",
    "    time_choppin = []\n",
    "    time_saaty = []\n",
    "    \n",
    "    auc_mmle = []\n",
    "    auc_ase = []\n",
    "    \n",
    "    for _ in range(n_trials):\n",
    "        # Generate data\n",
    "        data = generate_data(betas, thetas, p)\n",
    "\n",
    "        # Accelerated spectral method\n",
    "        start = time.time()\n",
    "        lambd = 1./(m * np.log(m))\n",
    "        est_ase = spectral_estimate(data, lambd=lambd, regularization=\"uniform\")\n",
    "        time_ase += [(time.time() - start)]\n",
    "        error_ase += [relative_betas_error(betas, est_ase)]\n",
    "        \n",
    "        # Choppin method\n",
    "        # start = time.time()\n",
    "        # est_choppin = eigen_vector_method.choppin_method(data, return_beta=True)\n",
    "        # time_choppin += [(time.time() - start)]\n",
    "        # error_choppin += [relative_betas_error(betas, est_choppin)]\n",
    "        \n",
    "        # Garner\n",
    "        start = time.time()\n",
    "        # est_garner = eigen_vector_method.garner_method(data, return_beta=True)\n",
    "        est_theta, est_garner = joint_mle.rasch_jml(data)\n",
    "        time_garner += [(time.time() - start)]\n",
    "        error_garner += [relative_betas_error(betas, est_garner)]\n",
    "        \n",
    "        # Saaty's method\n",
    "        # start = time.time()\n",
    "        # est_saaty = eigen_vector_method.saaty_method(data, return_beta=True)\n",
    "        # time_saaty += [(time.time() - start)]\n",
    "        # error_saaty += [relative_betas_error(betas, est_saaty)]\n",
    "        \n",
    "\n",
    "    errors_ase_arr.append(error_ase)\n",
    "    errors_cmle_arr.append(error_cmle)\n",
    "    errors_mmle_arr.append(error_mmle)\n",
    "    errors_choppin_arr.append(error_choppin)\n",
    "    errors_garner_arr.append(error_garner)\n",
    "    errors_saaty_arr.append(error_saaty)\n",
    "    \n",
    "    time_ase_arr.append(time_ase)\n",
    "    time_cmle_arr.append(time_cmle)\n",
    "    time_mmle_arr.append(time_mmle)\n",
    "    time_choppin_arr.append(time_choppin)\n",
    "    time_garner_arr.append(time_garner)\n",
    "    time_saaty_arr.append(time_saaty)\n",
    "    \n",
    "    print(f\"n={n}, m={m}, ASE={np.nanmean(error_ase)} ({np.nanmean(time_ase)}), CMLE={np.nanmean(error_cmle)} ({np.nanmean(time_cmle)}), MMLE={np.nanmean(error_mmle)} ({np.nanmean(time_mmle)}), \" +\n",
    "          f\"Choppin={np.nanmean(error_choppin)} ({np.nanmean(time_choppin)}), Garner={np.nanmean(error_garner)} ({np.nanmean(time_garner)}), Saaty={np.nanmean(error_saaty)} ({np.nanmean(time_saaty)})\")"
   ]
  },
  {
   "cell_type": "code",
   "execution_count": 35,
   "metadata": {},
   "outputs": [],
   "source": [
    "errors_ase_arr = np.array(errors_ase_arr)\n",
    "errors_choppin_arr = np.array(errors_choppin_arr)\n",
    "errors_garner_arr = np.array(errors_garner_arr)\n",
    "errors_saaty_arr = np.array(errors_saaty_arr)\n"
   ]
  },
  {
   "cell_type": "code",
   "execution_count": 36,
   "metadata": {},
   "outputs": [
    {
     "data": {
      "image/png": "[encoded data removed]",
      "text/plain": [
       "<Figure size 432x288 with 1 Axes>"
      ]
     },
     "metadata": {
      "needs_background": "light"
     },
     "output_type": "display_data"
    }
   ],
   "source": [
    "# plt.plot(n_array, np.mean(errors_mmle_arr, 1), label=\"Marginal MLE\")\n",
    "# plt.plot(n_array, np.mean(errors_cmle_arr, 1), label=\"Conditional MLE\")\n",
    "plt.plot(n_array, np.mean(errors_ase_arr, 1), label=\"Spectral Method\")\n",
    "plt.plot(n_array, np.mean(errors_choppin_arr, 1), label=\"Choppin Method\")\n",
    "plt.plot(n_array, np.mean(errors_saaty_arr, 1), label=\"Saaty Method\")\n",
    "\n",
    "\n",
    "plt.legend()\n",
    "plt.title(rf\"m={m},p={p}\")\n",
    "plt.xlabel(\"n\")\n",
    "plt.ylabel(r'$|| \\beta - \\beta^*||$')\n",
    "plt.tight_layout()\n",
    "plt.savefig(f\"pics/eigen_vector_methods_m={m}_p={p}.png\")\n",
    "# plt.title(r'$d = mnp^2$, $p = \\sqrt{\\log m/n}$')"
   ]
  },
  {
   "cell_type": "code",
   "execution_count": 24,
   "metadata": {},
   "outputs": [
    {
     "data": {
      "text/plain": [
       "Text(0, 0.5, '$|| \\\\beta - \\\\beta^*||$')"
      ]
     },
     "execution_count": 24,
     "metadata": {},
     "output_type": "execute_result"
    },
    {
     "data": {
      "image/png": "[encoded data removed]",
      "text/plain": [
       "<Figure size 432x288 with 1 Axes>"
      ]
     },
     "metadata": {
      "needs_background": "light"
     },
     "output_type": "display_data"
    }
   ],
   "source": [
    "plt.plot(n_array, np.mean(errors_ase_arr, 1), label=\"Spectral Method\")\n",
    "plt.plot(n_array, np.mean(errors_choppin_arr, 1), label=\"Choppin Method\")\n",
    "plt.plot(n_array, np.mean(errors_garner_arr, 1), label=\"Garner Method\")\n",
    "plt.plot(n_array, np.mean(errors_saaty_arr, 1), label=\"Saaty Method\")\n",
    "\n",
    "\n",
    "plt.legend()\n",
    "plt.title(rf\"m={m},p={p}\")\n",
    "plt.xlabel(\"n\")\n",
    "plt.ylabel(r'$|| \\beta - \\beta^*||$')"
   ]
  },
  {
   "cell_type": "code",
   "execution_count": null,
   "metadata": {},
   "outputs": [],
   "source": []
  }
 ],
 "metadata": {
  "kernelspec": {
   "display_name": "Python 3",
   "language": "python",
   "name": "python3"
  },
  "language_info": {
   "codemirror_mode": {
    "name": "ipython",
    "version": 3
   },
   "file_extension": ".py",
   "mimetype": "text/x-python",
   "name": "python",
   "nbconvert_exporter": "python",
   "pygments_lexer": "ipython3",
   "version": "3.8.13"
  }
 },
 "nbformat": 4,
 "nbformat_minor": 4
}
