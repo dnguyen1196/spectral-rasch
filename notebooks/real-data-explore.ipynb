{
 "cells": [
  {
   "cell_type": "code",
   "execution_count": 1,
   "id": "bc04afc9-0ba4-412e-9c9d-3be3bc415abd",
   "metadata": {},
   "outputs": [],
   "source": [
    "%load_ext autoreload\n",
    "%autoreload 2"
   ]
  },
  {
   "cell_type": "code",
   "execution_count": 2,
   "id": "e0e5065d-1ea8-4d1f-a24b-5f06aaa00a9e",
   "metadata": {},
   "outputs": [],
   "source": [
    "import numpy as np\n",
    "from irt.evaluation import eval_utils\n",
    "from irt.data import data_loader\n",
    "import matplotlib.pyplot as plt\n",
    "import time\n",
    "import girth\n",
    "# from girth import rasch_conditional\n",
    "from irt.data.rasch import generate_data\n",
    "from irt.algorithms.spectral_estimator import spectral_estimate, construct_markov_chain, construct_markov_chain_accelerated\n",
    "from irt.algorithms import conditional_mle\n",
    "from irt.algorithms import rasch_mml\n",
    "from irt.evaluation.eval_utils import log_likelihood_heldout, bayesian_auc, pairwise_disagreement_error, top_k_accuracy\n",
    "import warnings\n",
    "warnings.filterwarnings(\"ignore\")"
   ]
  },
  {
   "cell_type": "code",
   "execution_count": 3,
   "id": "a5de9193-7a3d-41d3-868c-8ec957ffb05d",
   "metadata": {},
   "outputs": [],
   "source": [
    "# A = data_loader.lsat()\n",
    "# A_lsat = data_loader.lsat()\n",
    "# A_ml_100k, ml_100k_ratings = data_loader.ml_100k(cutoff=cutoff)\n",
    "# A_hetrec_2k, hetrec_2k_ratings  = data_loader.hetrec_2k(cutoff=50)\n",
    "# A_ml_1m, ml_1m_ratings = data_loader.ml_1m(cutoff=cutoff, top_k_cutoff=200)\n",
    "# A_bx, bx_ratings = data_loader.bx_book(cutoff=50, top_k_cutoff=200)\n",
    "A_genome, genome_ratings = data_loader.book_genome(cutoff=200, top_k_cutoff=500)\n",
    "# A_ml_20m, ml_20m_ratings = data_loader.ml_20m(cutoff=100, top_k_cutoff=200)"
   ]
  },
  {
   "cell_type": "code",
   "execution_count": null,
   "id": "6e8684db-1e14-4999-b595-890c2658466f",
   "metadata": {},
   "outputs": [],
   "source": []
  },
  {
   "cell_type": "code",
   "execution_count": 4,
   "id": "2b823352-abae-454b-9e49-eda0d7248571",
   "metadata": {},
   "outputs": [],
   "source": [
    "# A = A_ml_100k\n",
    "# ratings = ml_100k_ratings\n",
    "A = A_genome\n",
    "ratings = genome_ratings\n",
    "\n",
    "sorted_ratings = sorted(ratings, key=lambda x: x[1], reverse=True)\n",
    "true_rank = [item for (item, _, num_ratings) in sorted_ratings] # Sort from most popular items\n",
    "ratings_dict = dict([(item, (rating, num_ratings)) for item, rating, num_ratings in ratings])"
   ]
  },
  {
   "cell_type": "code",
   "execution_count": 5,
   "id": "b9d0c96a-87c1-47af-a086-311cdf1beecd",
   "metadata": {
    "tags": []
   },
   "outputs": [
    {
     "name": "stdout",
     "output_type": "stream",
     "text": [
      "Data has shape (7238, 350332)\n",
      "mean num ratings in top 200: 1830.7\n",
      "max num ratings in top 200: 12847\n",
      "median num ratings in top 200: 1044.5\n",
      "min num ratings in top 200: 505\n"
     ]
    }
   ],
   "source": [
    "K = 200\n",
    "print(f\"Data has shape {A.shape}\")\n",
    "all_num_ratings = [num_ratings for (_, _, num_ratings) in sorted_ratings][:K]\n",
    "print(f\"mean num ratings in top {K}:\", np.mean(all_num_ratings))\n",
    "print(f\"max num ratings in top {K}:\", np.max(all_num_ratings))\n",
    "print(f\"median num ratings in top {K}:\", np.median(all_num_ratings))\n",
    "print(f\"min num ratings in top {K}:\", np.min(all_num_ratings))"
   ]
  },
  {
   "cell_type": "code",
   "execution_count": 6,
   "id": "bf89ff59-604f-4d19-8c43-218d4258a79e",
   "metadata": {},
   "outputs": [],
   "source": [
    "est_ase = est_ase = spectral_estimate(A, lambd=1., regularization=\"uniform\")\n",
    "est_mmle = rasch_mml.rasch_mml(A, return_beta=True)"
   ]
  },
  {
   "cell_type": "code",
   "execution_count": 7,
   "id": "e0ba10b7-f0a9-42d4-a6a3-681553b47202",
   "metadata": {},
   "outputs": [],
   "source": [
    "rank_ase = np.argsort(est_ase)[::-1]\n",
    "rank_mmle = np.argsort(est_mmle)[::-1]"
   ]
  },
  {
   "cell_type": "code",
   "execution_count": 10,
   "id": "a2297943-d78f-4970-9748-23d84ab8deaa",
   "metadata": {},
   "outputs": [
    {
     "name": "stdout",
     "output_type": "stream",
     "text": [
      "ASE 113\n",
      "MMLE 86\n"
     ]
    }
   ],
   "source": [
    "K = 200\n",
    "print(f\"ASE {len(np.intersect1d(true_rank[:K], rank_ase[:K]))}\")\n",
    "print(f\"MMLE {len(np.intersect1d(true_rank[:K], rank_mmle[:K]))}\")\n",
    "\n",
    "# for item in true_rank[:K]:\n",
    "#     if item not in rank_ase[:K]:\n",
    "#         print(f\"{item}, {ratings_dict[item]}\")\n"
   ]
  },
  {
   "cell_type": "code",
   "execution_count": null,
   "id": "fd7e5b95-f0ed-495f-ba40-40a563ffa99e",
   "metadata": {},
   "outputs": [],
   "source": []
  },
  {
   "cell_type": "code",
   "execution_count": null,
   "id": "06d364b9-0944-403a-a39a-43278007e4f1",
   "metadata": {},
   "outputs": [],
   "source": []
  },
  {
   "cell_type": "code",
   "execution_count": null,
   "id": "5277f230-fc35-4cad-916a-fccfe7e2056a",
   "metadata": {},
   "outputs": [],
   "source": []
  }
 ],
 "metadata": {
  "kernelspec": {
   "display_name": "Python 3",
   "language": "python",
   "name": "python3"
  },
  "language_info": {
   "codemirror_mode": {
    "name": "ipython",
    "version": 3
   },
   "file_extension": ".py",
   "mimetype": "text/x-python",
   "name": "python",
   "nbconvert_exporter": "python",
   "pygments_lexer": "ipython3",
   "version": "3.8.13"
  }
 },
 "nbformat": 4,
 "nbformat_minor": 5
}
