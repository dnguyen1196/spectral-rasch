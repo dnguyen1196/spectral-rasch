{
 "cells": [
  {
   "cell_type": "code",
   "execution_count": 1,
   "id": "bc04afc9-0ba4-412e-9c9d-3be3bc415abd",
   "metadata": {},
   "outputs": [],
   "source": [
    "%load_ext autoreload\n",
    "%autoreload 2"
   ]
  },
  {
   "cell_type": "code",
   "execution_count": 2,
   "id": "e0e5065d-1ea8-4d1f-a24b-5f06aaa00a9e",
   "metadata": {},
   "outputs": [],
   "source": [
    "import numpy as np\n",
    "from irt.evaluation import eval_utils\n",
    "from irt.data import data_loader\n",
    "import matplotlib.pyplot as plt\n",
    "import time\n",
    "import girth\n",
    "# from girth import rasch_conditional\n",
    "from irt.data.rasch import generate_data\n",
    "from irt.algorithms.spectral_estimator import spectral_estimate, construct_markov_chain, construct_markov_chain_accelerated\n",
    "from irt.algorithms import conditional_mle\n",
    "from irt.algorithms import rasch_mml\n",
    "from irt.evaluation.eval_utils import log_likelihood_heldout, bayesian_auc, pairwise_disagreement_error, top_k_accuracy\n",
    "import warnings\n",
    "import torch as th\n",
    "warnings.filterwarnings(\"ignore\")"
   ]
  },
  {
   "cell_type": "code",
   "execution_count": 5,
   "id": "48c69111-9fde-4d30-b759-9ad36d463258",
   "metadata": {},
   "outputs": [
    {
     "name": "stdout",
     "output_type": "stream",
     "text": [
      "(6311, 1815)\n"
     ]
    }
   ],
   "source": [
    "A = data_loader.riiid_small()\n",
    "print(A.shape)\n",
    "# print(len(ratings))"
   ]
  },
  {
   "cell_type": "code",
   "execution_count": 4,
   "id": "ab64fd62-0ca9-4fe0-8bb4-7df722b22a94",
   "metadata": {},
   "outputs": [],
   "source": [
    "dataset = \"../experiment_results/may/may5/book_genome_m=9374_119_0.8\"\n",
    "# dataset = \"../experiment_results/may/may5/bx_book_m=2185_119_0.8\"\n",
    "\n",
    "res_spectral = th.load(dataset + \"_spectral.th\")\n",
    "res_mmle = th.load(dataset + \"_MMLE.th\")\n",
    "res_jmle = th.load(dataset + \"_JMLE.th\")"
   ]
  },
  {
   "cell_type": "code",
   "execution_count": 5,
   "id": "4a5ca9eb-fc43-4b30-b80e-fe63063224b0",
   "metadata": {},
   "outputs": [],
   "source": [
    "beta_spec = res_spectral[\"est_spectral\"]\n",
    "rank_spec = np.argsort(beta_spec)[::-1]\n",
    "beta_mmle = res_mmle[\"est_mmle\"]\n",
    "rank_mmle = np.argsort(beta_mmle)[::-1]\n",
    "beta_jmle = res_jmle[\"est_jmle\"]\n",
    "rank_jmle = np.argsort(beta_jmle)[::-1]\n"
   ]
  },
  {
   "cell_type": "code",
   "execution_count": 6,
   "id": "fd14f352-bac5-4a4a-bc26-573feb22bbea",
   "metadata": {},
   "outputs": [],
   "source": [
    "sorted_ratings = sorted(ratings, key=lambda x: x[1], reverse=True)\n",
    "true_rank = [item for (item, _, _) in sorted_ratings] # Sort from most popular items\n"
   ]
  },
  {
   "cell_type": "code",
   "execution_count": null,
   "id": "c00b56ca-edb6-4c92-a783-98e08da8f183",
   "metadata": {},
   "outputs": [],
   "source": []
  },
  {
   "cell_type": "code",
   "execution_count": 7,
   "id": "db6789d5-14b9-4c93-bd3e-e6010cc6ef2d",
   "metadata": {},
   "outputs": [
    {
     "name": "stdout",
     "output_type": "stream",
     "text": [
      "\n",
      "Min num ratings for top K = 0\n",
      "Spectral [0.0, 0.0, 0.02, 0.013333333333333334, 0.04, 0.09, 0.13333333333333333]\n",
      "MMLE [0.0, 0.0, 0.0, 0.0, 0.02, 0.05, 0.11666666666666667]\n",
      "JMLE [0.0, 0.0, 0.0, 0.0, 0.01, 0.05, 0.10333333333333333]\n",
      "\n",
      "Min num ratings for top K = 50\n",
      "Spectral [0.0, 0.0, 0.02, 0.013333333333333334, 0.04, 0.09, 0.13333333333333333]\n",
      "MMLE [0.0, 0.0, 0.0, 0.0, 0.02, 0.05, 0.11666666666666667]\n",
      "JMLE [0.0, 0.0, 0.0, 0.0, 0.01, 0.05, 0.10333333333333333]\n",
      "\n",
      "Min num ratings for top K = 100\n",
      "Spectral [0.0, 0.0, 0.02, 0.013333333333333334, 0.04, 0.09, 0.13333333333333333]\n",
      "MMLE [0.0, 0.0, 0.0, 0.0, 0.02, 0.05, 0.11666666666666667]\n",
      "JMLE [0.0, 0.0, 0.0, 0.0, 0.01, 0.05, 0.10333333333333333]\n",
      "\n",
      "Min num ratings for top K = 250\n",
      "Spectral [0.0, 0.0, 0.02, 0.013333333333333334, 0.04, 0.045, 0.043333333333333335]\n",
      "MMLE [0.0, 0.0, 0.0, 0.013333333333333334, 0.03, 0.015, 0.02666666666666667]\n",
      "JMLE [0.0, 0.0, 0.0, 0.0, 0.02, 0.02, 0.03]\n",
      "\n",
      "Min num ratings for top K = 300\n",
      "Spectral [0.0, 0.0, 0.02, 0.04, 0.06, 0.04, 0.02666666666666667]\n",
      "MMLE [0.0, 0.0, 0.0, 0.02666666666666667, 0.02, 0.01, 0.013333333333333334]\n",
      "JMLE [0.0, 0.0, 0.0, 0.013333333333333334, 0.01, 0.015, 0.02]\n",
      "\n",
      "Min num ratings for top K = 400\n",
      "Spectral [0.0, 0.0, 0.0, 0.02666666666666667, 0.02, 0.02, 0.013333333333333334]\n",
      "MMLE [0.0, 0.0, 0.0, 0.0, 0.0, 0.0, 0.006666666666666667]\n",
      "JMLE [0.0, 0.0, 0.0, 0.0, 0.0, 0.005, 0.01]\n",
      "\n",
      "Min num ratings for top K = 500\n",
      "Spectral [0.0, 0.0, 0.0, 0.0, 0.0, 0.01, 0.006666666666666667]\n",
      "MMLE [0.0, 0.0, 0.0, 0.0, 0.0, 0.0, 0.006666666666666667]\n",
      "JMLE [0.0, 0.0, 0.0, 0.0, 0.0, 0.005, 0.006666666666666667]\n"
     ]
    }
   ],
   "source": [
    "K_array = [10, 25, 50, 75, 100, 200, 300]\n",
    "\n",
    "cutoffs_top_k = [0, 50, 100, 250, 300, 400, 500]\n",
    "\n",
    "for cutoff_rating in cutoffs_top_k:\n",
    "    true_rank = [item for (item, _, num_ratings) in sorted_ratings if num_ratings > cutoff_rating]\n",
    "    top_k_spectral = [top_k_accuracy(true_rank, rank_spec, K) for K in K_array]\n",
    "    top_k_mmle = [top_k_accuracy(true_rank, rank_mmle, K) for K in K_array]\n",
    "    top_k_jmle = [top_k_accuracy(true_rank, rank_jmle, K) for K in K_array]\n",
    "    print()\n",
    "    print(f\"Min num ratings for top K = {cutoff_rating}\")\n",
    "    print(\"Spectral\", top_k_spectral)\n",
    "    print(\"MMLE\", top_k_mmle)\n",
    "    print(\"JMLE\", top_k_jmle)\n",
    "\n"
   ]
  },
  {
   "cell_type": "code",
   "execution_count": 8,
   "id": "4ea2cfee-6450-42e6-878f-b6796882405e",
   "metadata": {},
   "outputs": [
    {
     "data": {
      "text/plain": [
       "[0.3, 0.16, 0.16, 0.18666666666666668, 0.18, 0.25, 0.32666666666666666]"
      ]
     },
     "execution_count": 8,
     "metadata": {},
     "output_type": "execute_result"
    }
   ],
   "source": [
    "res_spectral[\"top_k_spectral\"]"
   ]
  },
  {
   "cell_type": "code",
   "execution_count": 29,
   "id": "82c85800-6b70-45a1-af64-3b3f0773ebfa",
   "metadata": {},
   "outputs": [],
   "source": [
    "cutoff_rating = 500\n",
    "\n",
    "true_rank = [item for (item, _, num_ratings) in sorted_ratings if num_ratings > cutoff_rating]\n",
    "top_k_spectral = [top_k_accuracy(true_rank, rank_spec, K) for K in K_array]\n",
    "top_k_mmle = [top_k_accuracy(true_rank, rank_mmle, K) for K in K_array]\n",
    "top_k_jmle = [top_k_accuracy(true_rank, rank_jmle, K) for K in K_array]\n"
   ]
  },
  {
   "cell_type": "code",
   "execution_count": 33,
   "id": "9d8e7fab-96c9-4bff-a86e-3d8566589f5d",
   "metadata": {},
   "outputs": [],
   "source": [
    "res_spectral[\"top_k_spectral\"] = top_k_spectral\n",
    "res_mmle[\"top_k_mmle\"] = top_k_mmle\n",
    "res_jmle[\"top_k_jmle\"] = top_k_jmle"
   ]
  },
  {
   "cell_type": "code",
   "execution_count": 34,
   "id": "0c9913af-4e31-432f-8273-5400e71e5cb2",
   "metadata": {},
   "outputs": [],
   "source": [
    "th.save(res_spectral, dataset + \"_spectral.th\")\n",
    "th.save(res_mmle, dataset + \"_MMLE.th\")\n",
    "th.save(res_jmle, dataset + \"_JMLE.th\")\n"
   ]
  },
  {
   "cell_type": "code",
   "execution_count": null,
   "id": "d1b2908a-d9f1-4efb-aead-b25f36b38288",
   "metadata": {},
   "outputs": [],
   "source": []
  }
 ],
 "metadata": {
  "kernelspec": {
   "display_name": "Python 3",
   "language": "python",
   "name": "python3"
  },
  "language_info": {
   "codemirror_mode": {
    "name": "ipython",
    "version": 3
   },
   "file_extension": ".py",
   "mimetype": "text/x-python",
   "name": "python",
   "nbconvert_exporter": "python",
   "pygments_lexer": "ipython3",
   "version": "3.8.13"
  }
 },
 "nbformat": 4,
 "nbformat_minor": 5
}
