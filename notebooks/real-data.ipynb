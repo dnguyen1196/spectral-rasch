{
 "cells": [
  {
   "cell_type": "code",
   "execution_count": 1,
   "id": "bc04afc9-0ba4-412e-9c9d-3be3bc415abd",
   "metadata": {},
   "outputs": [],
   "source": [
    "%load_ext autoreload\n",
    "%autoreload 2"
   ]
  },
  {
   "cell_type": "code",
   "execution_count": 2,
   "id": "e0e5065d-1ea8-4d1f-a24b-5f06aaa00a9e",
   "metadata": {},
   "outputs": [],
   "source": [
    "import numpy as np\n",
    "from irt.evaluation import eval_utils\n",
    "from irt.data import data_loader\n",
    "import matplotlib.pyplot as plt\n",
    "import time\n",
    "import girth\n",
    "# from girth import rasch_conditional\n",
    "from irt.data.rasch import generate_data\n",
    "from irt.algorithms import spectral_estimator\n",
    "from irt.algorithms import conditional_mle\n",
    "from irt.algorithms import rasch_mml"
   ]
  },
  {
   "cell_type": "code",
   "execution_count": 3,
   "id": "a5de9193-7a3d-41d3-868c-8ec957ffb05d",
   "metadata": {},
   "outputs": [],
   "source": [
    "# A = data_loader.lsat()\n",
    "A = data_loader.ml_100k()"
   ]
  },
  {
   "cell_type": "code",
   "execution_count": null,
   "id": "d094c4f8-0c7a-4590-8f18-573740e3b79a",
   "metadata": {},
   "outputs": [],
   "source": [
    "n_trials = 10\n",
    "\n",
    "auc_cmle = []\n",
    "auc_mmle = []\n",
    "auc_ase = []\n",
    "\n",
    "for i in range(n_trials):\n",
    "    data, test = eval_utils.partition_data(A)\n",
    "    # try:\n",
    "    #     auc_cmle.append(eval_utils.evaluate_auc(conditional_mle.rasch_conditional, data, test))\n",
    "    # except Exception as e:\n",
    "    #     auc_cmle.append(np.nan)\n",
    "    #     continue\n",
    "        \n",
    "    try:\n",
    "        auc_mmle.append(eval_utils.evaluate_auc(rasch_mml.rasch_mml, data, test))\n",
    "    except Exception as e:\n",
    "        auc_mmle.append(np.nan)\n",
    "        continue\n",
    "    \n",
    "    try:\n",
    "        auc_ase.append(eval_utils.evaluate_auc(spectral_estimator.spectral_estimate, data, test))\n",
    "    except Exception as e:\n",
    "        auc_ase.append(np.nan)\n",
    "        continue\n"
   ]
  },
  {
   "cell_type": "code",
   "execution_count": null,
   "id": "05266cae-ca94-4736-ab6f-13aa2f398a93",
   "metadata": {},
   "outputs": [],
   "source": [
    "print(\"CMLE\", np.nanmean(auc_cmle))\n",
    "print(\"MMLE\", np.nanmean(auc_mmle))\n",
    "print(\"ASE\", np.nanmean(auc_ase))\n"
   ]
  }
 ],
 "metadata": {
  "kernelspec": {
   "display_name": "Python 3",
   "language": "python",
   "name": "python3"
  },
  "language_info": {
   "codemirror_mode": {
    "name": "ipython",
    "version": 3
   },
   "file_extension": ".py",
   "mimetype": "text/x-python",
   "name": "python",
   "nbconvert_exporter": "python",
   "pygments_lexer": "ipython3",
   "version": "3.8.13"
  }
 },
 "nbformat": 4,
 "nbformat_minor": 5
}
