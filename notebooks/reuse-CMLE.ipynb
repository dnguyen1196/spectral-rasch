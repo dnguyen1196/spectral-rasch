{
 "cells": [
  {
   "cell_type": "code",
   "execution_count": 1,
   "id": "6ca5af2f-6989-4d3d-9ff3-f9410bfc827c",
   "metadata": {},
   "outputs": [],
   "source": [
    "%load_ext autoreload\n",
    "%autoreload 2"
   ]
  },
  {
   "cell_type": "code",
   "execution_count": 3,
   "id": "8efa1f50-170d-4f72-bfda-60dd65e7a965",
   "metadata": {},
   "outputs": [],
   "source": [
    "import numpy as np\n",
    "from irt.evaluation import eval_utils\n",
    "from irt.data import data_loader\n",
    "import time\n",
    "from irt.algorithms.spectral_estimator import spectral_estimate\n",
    "from irt.algorithms import conditional_mle\n",
    "from irt.algorithms import rasch_mml\n",
    "from irt.algorithms import joint_mle\n",
    "from irt.evaluation.eval_utils import log_likelihood_heldout, bayesian_auc, top_k_accuracy\n",
    "import warnings\n",
    "warnings.filterwarnings(\"ignore\")\n",
    "import torch as th\n",
    "import os\n",
    "from scipy.stats import norm"
   ]
  },
  {
   "cell_type": "code",
   "execution_count": 8,
   "id": "18fa81fc-686a-4964-8a1f-d76635da8f3b",
   "metadata": {},
   "outputs": [],
   "source": [
    "datasets = [\"hetrec_2k\", \"ml_100k\", \"ml_1m\", \"each_movie\"]\n",
    "\n",
    "cmle_links = [\n",
    "    \"../experiment_results/may/may5/hetrec_2k_m=6829_119_0.8_CMLE.th\",\n",
    "    \"../experiment_results/may/may5/ml_100k_m=2269_119_0.8_CMLE.th\",\n",
    "    \"../experiment_results/may/may5/ml_1m_m=3260_119_0.8_CMLE.th\",\n",
    "    \"../experiment_results/may/may5/each_movie_m=1327_119_0.8_CMLE.th\"\n",
    "]\n",
    "\n",
    "prior_dist = [(0, 0.5), (0, 1.), (0, 1.5), (-1, 0.5), \n",
    "              (-1, 1.), (-1, 1.5), (1, 0.5), (1, 1.), \n",
    "              (1, 1.5), (-2, 0.5), (-2, 1), (-2, 1.5), \n",
    "              (2, 0.5), (2, 1.), (2, 1.5)]\n"
   ]
  },
  {
   "cell_type": "code",
   "execution_count": 9,
   "id": "be56957b-3d0d-4dfc-874a-817ebdf7589b",
   "metadata": {},
   "outputs": [
    {
     "name": "stdout",
     "output_type": "stream",
     "text": [
      "Dataset:hetrec_2k, w.length = 1327, loglik (before) = -0.5622169237770317, loglik correct = -1.1193450374199119\n",
      "Dataset:ml_100k, w.length = 1327, loglik (before) = -0.6251552834769624, loglik correct = -1.159089117252271\n",
      "Dataset:ml_1m, w.length = 1327, loglik (before) = -0.6798305041936825, loglik correct = -1.1660113372541032\n",
      "Dataset:each_movie, w.length = 1327, loglik (before) = -0.30508930284920566, loglik correct = -0.9460256371232257\n"
     ]
    }
   ],
   "source": [
    "seed = 119\n",
    "\n",
    "test_loglik_arr = []\n",
    "\n",
    "for i, dataset in enumerate(datasets):\n",
    "\n",
    "    # Load data\n",
    "    A, ratings =  getattr(data_loader, dataset)() # Use the default cutoff for each dataset\n",
    "    \n",
    "    cmle_link = cmle_links[i]\n",
    "    cmle_res = th.load(cmle_link)\n",
    "    \n",
    "    est_cmle = cmle_res[\"est_cmle\"]\n",
    "    log_lik_wrong = cmle_res[\"loglik_cmle\"]\n",
    "    # Partition the data into train and test set using the global seed\n",
    "    \n",
    "    A_train_all, test_data = eval_utils.partition_data(A, p_train=0.8, p_test=0.2, seed=seed)\n",
    "    binary_responses = eval_utils.extract_binary_responses(A_train_all)\n",
    "    p_estimates_cmle = []\n",
    "    loglik_cmle = []\n",
    "    \n",
    "    for mu, sigma in prior_dist:\n",
    "        p_estimate_cmle = eval_utils.quadrature_p_response(est_cmle, sigma, mu)\n",
    "        p_estimates_cmle.append(p_estimate_cmle)\n",
    "        loglik_cmle.append(log_likelihood_heldout(p_estimate_cmle, binary_responses))\n",
    "\n",
    "    mu_best_cmle, sigma_best_cmle = prior_dist[np.argmax(loglik_cmle)]\n",
    "    p_estimate_cmle = p_estimates_cmle[np.argmax(loglik_cmle)]\n",
    "    test_loglik_cmle = log_likelihood_heldout(p_estimate_cmle, test_data)\n",
    "    test_loglik_arr.append(test_loglik_cmle)\n",
    "    print(f\"Dataset:{dataset}, w.length = {len(w)}, loglik (before) = {log_lik_wrong}, loglik correct = {test_loglik_cmle}\")\n",
    "\n"
   ]
  },
  {
   "cell_type": "code",
   "execution_count": 10,
   "id": "f000c2e3-188c-46dd-ab47-f30cb05d5172",
   "metadata": {},
   "outputs": [
    {
     "data": {
      "text/plain": [
       "[-1.1193450374199119,\n",
       " -1.159089117252271,\n",
       " -1.1660113372541032,\n",
       " -0.9460256371232257]"
      ]
     },
     "execution_count": 10,
     "metadata": {},
     "output_type": "execute_result"
    }
   ],
   "source": [
    "test_loglik_arr"
   ]
  },
  {
   "cell_type": "code",
   "execution_count": 11,
   "id": "7eb269a1-12a2-4be9-b9fc-3ea8c0960952",
   "metadata": {},
   "outputs": [],
   "source": [
    "\n",
    "\n",
    "for i, dataset in enumerate(datasets):    \n",
    "    cmle_link = cmle_links[i]\n",
    "    cmle_res = th.load(cmle_link)\n",
    "    \n",
    "    est_cmle = cmle_res[\"est_cmle\"]\n",
    "    cmle_res[\"loglik_cmle\"] = test_loglik_arr[i]\n",
    "    th.save(cmle_res, cmle_link)\n",
    "\n"
   ]
  },
  {
   "cell_type": "code",
   "execution_count": null,
   "id": "8181ce59-3774-4791-9da9-a6e2cb3bd43d",
   "metadata": {},
   "outputs": [],
   "source": []
  }
 ],
 "metadata": {
  "kernelspec": {
   "display_name": "Python 3",
   "language": "python",
   "name": "python3"
  },
  "language_info": {
   "codemirror_mode": {
    "name": "ipython",
    "version": 3
   },
   "file_extension": ".py",
   "mimetype": "text/x-python",
   "name": "python",
   "nbconvert_exporter": "python",
   "pygments_lexer": "ipython3",
   "version": "3.8.13"
  }
 },
 "nbformat": 4,
 "nbformat_minor": 5
}
